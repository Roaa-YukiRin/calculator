{
 "cells": [
  {
   "cell_type": "code",
   "execution_count": 22,
   "id": "f2ed887e-68b5-4dfc-a42b-ca71fa572512",
   "metadata": {},
   "outputs": [
    {
     "data": {
      "text/plain": [
       "11"
      ]
     },
     "execution_count": 22,
     "metadata": {},
     "output_type": "execute_result"
    }
   ],
   "source": [
    "6+5"
   ]
  },
  {
   "cell_type": "code",
   "execution_count": 23,
   "id": "044ca04e-f391-4c48-8f4e-a86139c8ec46",
   "metadata": {},
   "outputs": [
    {
     "data": {
      "text/plain": [
       "3"
      ]
     },
     "execution_count": 23,
     "metadata": {},
     "output_type": "execute_result"
    }
   ],
   "source": [
    "7-4"
   ]
  },
  {
   "cell_type": "code",
   "execution_count": 24,
   "id": "26a59ac3-1a9d-49b5-83eb-e46f9c170a82",
   "metadata": {},
   "outputs": [
    {
     "data": {
      "text/plain": [
       "20"
      ]
     },
     "execution_count": 24,
     "metadata": {},
     "output_type": "execute_result"
    }
   ],
   "source": [
    "5*4"
   ]
  },
  {
   "cell_type": "code",
   "execution_count": 25,
   "id": "84714fe2-e713-4a2b-9f8c-c95964dd3c32",
   "metadata": {},
   "outputs": [
    {
     "data": {
      "text/plain": [
       "2.0"
      ]
     },
     "execution_count": 25,
     "metadata": {},
     "output_type": "execute_result"
    }
   ],
   "source": [
    "12/6"
   ]
  },
  {
   "cell_type": "code",
   "execution_count": 26,
   "id": "98c9cdd7-f1d6-4d31-8ff2-194bdcd14f67",
   "metadata": {},
   "outputs": [],
   "source": [
    "def add():\n",
    "    x=float(input(\"Enter the first number: \")) \n",
    "    y=float(input(\"Enter the second number: \"))\n",
    "    z=x+y\n",
    "    print(\"الأرقام المدخلة\", x,\" و \",y,\"=\",z)"
   ]
  },
  {
   "cell_type": "code",
   "execution_count": 28,
   "id": "caaef3f6-2699-4ff8-8331-470a808dfd79",
   "metadata": {},
   "outputs": [
    {
     "name": "stdin",
     "output_type": "stream",
     "text": [
      "Enter the first number:  5\n",
      "Enter the second number:  9\n"
     ]
    },
    {
     "name": "stdout",
     "output_type": "stream",
     "text": [
      "الأرقام المدخلة 5.0  و  9.0 = 14.0\n"
     ]
    }
   ],
   "source": [
    "add()"
   ]
  },
  {
   "cell_type": "code",
   "execution_count": 31,
   "id": "13cf2c7f-d3f0-4aa4-a58c-56a666563048",
   "metadata": {},
   "outputs": [],
   "source": [
    "def sub():\n",
    "    x=float(input(\"Enter the first number: \")) \n",
    "    y=float(input(\"Enter the second number: \"))\n",
    "    z=x-y\n",
    "    print(\"الأرقام المدخلة\", x,\" و \",y,\"=\",z)"
   ]
  },
  {
   "cell_type": "code",
   "execution_count": 32,
   "id": "a00d2124-558d-48c8-8068-1c0dcd29fdb1",
   "metadata": {},
   "outputs": [
    {
     "name": "stdin",
     "output_type": "stream",
     "text": [
      "Enter the first number:  5\n",
      "Enter the second number:  2\n"
     ]
    },
    {
     "name": "stdout",
     "output_type": "stream",
     "text": [
      "الأرقام المدخلة 5.0  و  2.0 = 3.0\n"
     ]
    }
   ],
   "source": [
    "sub()"
   ]
  },
  {
   "cell_type": "code",
   "execution_count": 33,
   "id": "a3e6ad3b-8586-45db-8166-3f217fabbaea",
   "metadata": {},
   "outputs": [],
   "source": [
    "def mult():\n",
    "    x=float(input(\"Enter the first number: \")) \n",
    "    y=float(input(\"Enter the second number: \"))\n",
    "    z=x*y\n",
    "    print(\"الأرقام المدخلة\", x,\" و \",y,\"=\",z)"
   ]
  },
  {
   "cell_type": "code",
   "execution_count": 34,
   "id": "b4a2f4af-3883-40f5-943a-18e3636f742e",
   "metadata": {},
   "outputs": [
    {
     "name": "stdin",
     "output_type": "stream",
     "text": [
      "Enter the first number:  6\n",
      "Enter the second number:  4\n"
     ]
    },
    {
     "name": "stdout",
     "output_type": "stream",
     "text": [
      "الأرقام المدخلة 6.0  و  4.0 = 24.0\n"
     ]
    }
   ],
   "source": [
    "mult()"
   ]
  },
  {
   "cell_type": "code",
   "execution_count": 39,
   "id": "93afef99-5f9f-4589-95ef-589c55af5b85",
   "metadata": {},
   "outputs": [],
   "source": [
    "def divi():\n",
    "    x=float(input(\"Enter the first number: \")) \n",
    "    y=float(input(\"Enter the second number: \"))\n",
    "    z=x/y\n",
    "    print(\"الأرقام المدخلة\", x,\" و \",y,\"=\",z)"
   ]
  },
  {
   "cell_type": "code",
   "execution_count": 40,
   "id": "bf0ad513-ce20-4c79-a5b5-05e617a3627b",
   "metadata": {},
   "outputs": [
    {
     "name": "stdin",
     "output_type": "stream",
     "text": [
      "Enter the first number:  12\n",
      "Enter the second number:  6\n"
     ]
    },
    {
     "name": "stdout",
     "output_type": "stream",
     "text": [
      "الأرقام المدخلة 12.0  و  6.0 = 2.0\n"
     ]
    }
   ],
   "source": [
    "divi()"
   ]
  },
  {
   "cell_type": "code",
   "execution_count": null,
   "id": "d6596ff3-27b0-4e9d-9527-b8426e15b302",
   "metadata": {},
   "outputs": [
    {
     "name": "stdout",
     "output_type": "stream",
     "text": [
      "Enter the numer of the calculation you want\n",
      "    1. add 2 number\n",
      "    2. subtract 2 number\n",
      "    3. multiply 2 numbers\n",
      "    4. divison of 2 numbers\n",
      "    5. exit \n"
     ]
    },
    {
     "name": "stdin",
     "output_type": "stream",
     "text": [
      " 1\n",
      "Enter the first number:  1\n",
      "Enter the second number:  4\n"
     ]
    },
    {
     "name": "stdout",
     "output_type": "stream",
     "text": [
      "الأرقام المدخلة 1.0  و  4.0 = 5.0\n",
      "Enter the numer of the calculation you want\n",
      "    1. add 2 number\n",
      "    2. subtract 2 number\n",
      "    3. multiply 2 numbers\n",
      "    4. divison of 2 numbers\n",
      "    5. exit \n"
     ]
    },
    {
     "name": "stdin",
     "output_type": "stream",
     "text": [
      " 2\n",
      "Enter the first number:  7\n",
      "Enter the second number:  3\n"
     ]
    },
    {
     "name": "stdout",
     "output_type": "stream",
     "text": [
      "الأرقام المدخلة 7.0  و  3.0 = 4.0\n",
      "Enter the numer of the calculation you want\n",
      "    1. add 2 number\n",
      "    2. subtract 2 number\n",
      "    3. multiply 2 numbers\n",
      "    4. divison of 2 numbers\n",
      "    5. exit \n"
     ]
    },
    {
     "name": "stdin",
     "output_type": "stream",
     "text": [
      " 3\n",
      "Enter the first number:  5\n",
      "Enter the second number:  7\n"
     ]
    },
    {
     "name": "stdout",
     "output_type": "stream",
     "text": [
      "الأرقام المدخلة 5.0  و  7.0 = 35.0\n",
      "Enter the numer of the calculation you want\n",
      "    1. add 2 number\n",
      "    2. subtract 2 number\n",
      "    3. multiply 2 numbers\n",
      "    4. divison of 2 numbers\n",
      "    5. exit \n"
     ]
    }
   ],
   "source": [
    "while True:\n",
    "    print(\"\"\"Enter the numer of the calculation you want\n",
    "    1. add 2 number\n",
    "    2. subtract 2 number\n",
    "    3. multiply 2 numbers\n",
    "    4. divison of 2 numbers\n",
    "    5. exit \"\"\")\n",
    "    x = int(input())\n",
    "    if x ==1:\n",
    "        add()\n",
    "    elif x==2:\n",
    "        sub()\n",
    "    elif x==3:\n",
    "        mult()\n",
    "    elif x==4:\n",
    "        divi()\n",
    "    else:\n",
    "        break"
   ]
  },
  {
   "cell_type": "code",
   "execution_count": null,
   "id": "7a066fbd-a9cc-4e80-bf12-4da0e30c8074",
   "metadata": {},
   "outputs": [],
   "source": []
  }
 ],
 "metadata": {
  "kernelspec": {
   "display_name": "Python 3 (ipykernel)",
   "language": "python",
   "name": "python3"
  },
  "language_info": {
   "codemirror_mode": {
    "name": "ipython",
    "version": 3
   },
   "file_extension": ".py",
   "mimetype": "text/x-python",
   "name": "python",
   "nbconvert_exporter": "python",
   "pygments_lexer": "ipython3",
   "version": "3.13.5"
  }
 },
 "nbformat": 4,
 "nbformat_minor": 5
}
